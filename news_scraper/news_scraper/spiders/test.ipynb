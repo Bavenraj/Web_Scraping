{
 "cells": [
  {
   "cell_type": "code",
   "execution_count": 2,
   "metadata": {},
   "outputs": [
    {
     "data": {
      "text/html": [
       "<div>\n",
       "<style scoped>\n",
       "    .dataframe tbody tr th:only-of-type {\n",
       "        vertical-align: middle;\n",
       "    }\n",
       "\n",
       "    .dataframe tbody tr th {\n",
       "        vertical-align: top;\n",
       "    }\n",
       "\n",
       "    .dataframe thead th {\n",
       "        text-align: right;\n",
       "    }\n",
       "</style>\n",
       "<table border=\"1\" class=\"dataframe\">\n",
       "  <thead>\n",
       "    <tr style=\"text-align: right;\">\n",
       "      <th></th>\n",
       "      <th>author</th>\n",
       "      <th>date</th>\n",
       "      <th>description</th>\n",
       "      <th>source</th>\n",
       "      <th>text</th>\n",
       "      <th>title</th>\n",
       "      <th>url</th>\n",
       "    </tr>\n",
       "  </thead>\n",
       "  <tbody>\n",
       "    <tr>\n",
       "      <th>0</th>\n",
       "      <td>Hanna Ziady</td>\n",
       "      <td>2024-09-02T15:32:27.250Z</td>\n",
       "      <td>Volkswagen is weighing whether to close factor...</td>\n",
       "      <td>CNN</td>\n",
       "      <td>“The situation is extremely tense and cannot b...</td>\n",
       "      <td>‘A very serious situation’: Volkswagen could c...</td>\n",
       "      <td>https://edition.cnn.com/2024/09/02/investing/v...</td>\n",
       "    </tr>\n",
       "    <tr>\n",
       "      <th>1</th>\n",
       "      <td>Chris Isidore</td>\n",
       "      <td>2024-09-01T15:00:19.536Z</td>\n",
       "      <td>Boeing has experienced all manner of bad news ...</td>\n",
       "      <td>CNN</td>\n",
       "      <td>“The board certainly deserves to be criticized...</td>\n",
       "      <td>Boeing’s next big problem could be a strike by...</td>\n",
       "      <td>https://edition.cnn.com/2024/09/01/business/bo...</td>\n",
       "    </tr>\n",
       "  </tbody>\n",
       "</table>\n",
       "</div>"
      ],
      "text/plain": [
       "          author                      date  \\\n",
       "0    Hanna Ziady  2024-09-02T15:32:27.250Z   \n",
       "1  Chris Isidore  2024-09-01T15:00:19.536Z   \n",
       "\n",
       "                                         description source  \\\n",
       "0  Volkswagen is weighing whether to close factor...    CNN   \n",
       "1  Boeing has experienced all manner of bad news ...    CNN   \n",
       "\n",
       "                                                text  \\\n",
       "0  “The situation is extremely tense and cannot b...   \n",
       "1  “The board certainly deserves to be criticized...   \n",
       "\n",
       "                                               title  \\\n",
       "0  ‘A very serious situation’: Volkswagen could c...   \n",
       "1  Boeing’s next big problem could be a strike by...   \n",
       "\n",
       "                                                 url  \n",
       "0  https://edition.cnn.com/2024/09/02/investing/v...  \n",
       "1  https://edition.cnn.com/2024/09/01/business/bo...  "
      ]
     },
     "execution_count": 2,
     "metadata": {},
     "output_type": "execute_result"
    }
   ],
   "source": [
    "import pandas as pd\n",
    "df = pd.read_csv(\"news_article.csv\")\n",
    "df.head()"
   ]
  }
 ],
 "metadata": {
  "kernelspec": {
   "display_name": "Python 3",
   "language": "python",
   "name": "python3"
  },
  "language_info": {
   "codemirror_mode": {
    "name": "ipython",
    "version": 3
   },
   "file_extension": ".py",
   "mimetype": "text/x-python",
   "name": "python",
   "nbconvert_exporter": "python",
   "pygments_lexer": "ipython3",
   "version": "3.12.5"
  }
 },
 "nbformat": 4,
 "nbformat_minor": 2
}
